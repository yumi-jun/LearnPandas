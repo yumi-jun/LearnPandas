{
  "nbformat": 4,
  "nbformat_minor": 0,
  "metadata": {
    "colab": {
      "provenance": [],
      "toc_visible": true
    },
    "kernelspec": {
      "name": "python3",
      "display_name": "Python 3"
    },
    "language_info": {
      "name": "python"
    }
  },
  "cells": [
    {
      "cell_type": "markdown",
      "source": [
        "# Pandas 객체"
      ],
      "metadata": {
        "id": "gLrLGOiznu1l"
      }
    },
    {
      "cell_type": "code",
      "source": [
        "import pandas as pd\n",
        "\n",
        "#인덱스 지정\n",
        "s=pd.Series([0,0.25,0.5,0.75,1.0],index=['a','b','c','d','e'])\n",
        "\n",
        "s['c']\n",
        "\n",
        "'b' in s"
      ],
      "metadata": {
        "colab": {
          "base_uri": "https://localhost:8080/"
        },
        "id": "W0nXYVOvoGHq",
        "outputId": "65216377-c511-4b9f-e562-ed1788aa7d9e"
      },
      "execution_count": null,
      "outputs": [
        {
          "output_type": "execute_result",
          "data": {
            "text/plain": [
              "True"
            ]
          },
          "metadata": {},
          "execution_count": 8
        }
      ]
    },
    {
      "cell_type": "code",
      "source": [
        "s.unique()"
      ],
      "metadata": {
        "colab": {
          "base_uri": "https://localhost:8080/"
        },
        "id": "fm4aF3BJov4J",
        "outputId": "6626d874-06ad-4c1f-8d75-8cdd7dced121"
      },
      "execution_count": null,
      "outputs": [
        {
          "output_type": "execute_result",
          "data": {
            "text/plain": [
              "array([0.  , 0.25, 0.5 , 0.75, 1.  ])"
            ]
          },
          "metadata": {},
          "execution_count": 9
        }
      ]
    },
    {
      "cell_type": "code",
      "source": [
        "# 각 값들이 얼마씩 존재하는지\n",
        "s.value_counts()"
      ],
      "metadata": {
        "colab": {
          "base_uri": "https://localhost:8080/"
        },
        "id": "bvglPcpKo6zB",
        "outputId": "aab3c319-a7e2-484a-cf6e-5664aa75db75"
      },
      "execution_count": null,
      "outputs": [
        {
          "output_type": "execute_result",
          "data": {
            "text/plain": [
              "0.00    1\n",
              "0.25    1\n",
              "0.50    1\n",
              "0.75    1\n",
              "1.00    1\n",
              "Name: count, dtype: int64"
            ]
          },
          "metadata": {},
          "execution_count": 10
        }
      ]
    },
    {
      "cell_type": "code",
      "source": [
        "# isin: 위의 값들이 index 위치한 곳에 true 반환\n",
        "s.isin([0.25,0.75])"
      ],
      "metadata": {
        "colab": {
          "base_uri": "https://localhost:8080/"
        },
        "id": "RoRpbdRzo_fv",
        "outputId": "d5921914-1722-443e-f373-a5630007f666"
      },
      "execution_count": null,
      "outputs": [
        {
          "output_type": "execute_result",
          "data": {
            "text/plain": [
              "a    False\n",
              "b     True\n",
              "c    False\n",
              "d     True\n",
              "e    False\n",
              "dtype: bool"
            ]
          },
          "metadata": {},
          "execution_count": 11
        }
      ]
    },
    {
      "cell_type": "code",
      "source": [
        "# 튜플 작성\n",
        "pop_tuple={}"
      ],
      "metadata": {
        "id": "vGGz75BIpZef"
      },
      "execution_count": null,
      "outputs": []
    }
  ]
}